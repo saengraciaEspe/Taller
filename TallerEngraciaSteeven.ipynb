{
  "cells": [
    {
      "cell_type": "markdown",
      "id": "8b6f603c",
      "metadata": {
        "id": "8b6f603c"
      },
      "source": [
        "<center><h1>Inteligencia Artificial</header1></center>"
      ]
    },
    {
      "cell_type": "markdown",
      "id": "3eb1aaac",
      "metadata": {
        "id": "3eb1aaac"
      },
      "source": [
        "Presentado por: Nombres Apellidos  <br>\n",
        "Fecha: DD/MM/2022"
      ]
    },
    {
      "cell_type": "markdown",
      "id": "1dec299b",
      "metadata": {
        "ExecuteTime": {
          "end_time": "2022-03-14T15:14:04.930713Z",
          "start_time": "2022-03-14T15:14:04.921682Z"
        },
        "id": "1dec299b"
      },
      "source": [
        "# Importación de librerias necesarias"
      ]
    },
    {
      "cell_type": "code",
      "execution_count": null,
      "id": "6d1abf7a",
      "metadata": {
        "ExecuteTime": {
          "end_time": "2022-03-14T15:14:46.228059Z",
          "start_time": "2022-03-14T15:14:46.223108Z"
        },
        "id": "6d1abf7a"
      },
      "outputs": [],
      "source": [
        "#Para esta actividad se importarán las siguientes librerías:\n"
      ]
    },
    {
      "cell_type": "markdown",
      "id": "6a44b924",
      "metadata": {
        "id": "6a44b924"
      },
      "source": [
        "## Cargar el Dataset"
      ]
    },
    {
      "cell_type": "code",
      "execution_count": null,
      "id": "3541e808",
      "metadata": {
        "id": "3541e808"
      },
      "outputs": [],
      "source": [
        "#Código para cargar el Dataset\n"
      ]
    },
    {
      "cell_type": "markdown",
      "id": "93c30410",
      "metadata": {
        "id": "93c30410"
      },
      "source": [
        "## Descripción de la fuente del Dataset"
      ]
    },
    {
      "cell_type": "markdown",
      "id": "db6174bc",
      "metadata": {
        "id": "db6174bc"
      },
      "source": [
        "Haga una descripción de la fuente de dayos utilizada (Incluya los enlaces necesarios)."
      ]
    },
    {
      "cell_type": "markdown",
      "id": "7f868eab",
      "metadata": {
        "id": "7f868eab"
      },
      "source": [
        "## Explique el problema a resolver. \n",
        "Descripción del problema. Tipo de problema (justifique). Variable objetivo, variables de entrada. Utilidad de su posible solución. Elementos adicionales que considere relevantes (no son necesarios contenidos teóricos, sino explicar qué relaciones tratas de comprobar y con qué métodos)."
      ]
    },
    {
      "cell_type": "markdown",
      "id": "a0b719c1",
      "metadata": {
        "id": "a0b719c1"
      },
      "source": [
        "## Caracterización del Dataset\n",
        "\n",
        "Realice una descripción de los datos con:\n",
        "\n",
        ">- Número de instancias en total.\n",
        ">- Número de atributos de entrada, su significado y tipo.\n",
        ">- Estadísticas de la variable objetivo.\n",
        ">- Estadísticas los atributos en relación con la variable objetivo.\n"
      ]
    },
    {
      "cell_type": "code",
      "execution_count": null,
      "id": "2f0ed5d2",
      "metadata": {
        "id": "2f0ed5d2"
      },
      "outputs": [],
      "source": [
        "#Código que responde a la descripción anterior"
      ]
    },
    {
      "cell_type": "markdown",
      "id": "a7ab5e48",
      "metadata": {
        "id": "a7ab5e48"
      },
      "source": [
        "En un par de párrafos haga un resumen de los principales hallazagos encontrados:    "
      ]
    },
    {
      "cell_type": "markdown",
      "id": "0a19e6af",
      "metadata": {
        "id": "0a19e6af"
      },
      "source": [
        "## Preprocesamiento del dataset. Transformaciones previas necesarias para la modelación"
      ]
    },
    {
      "cell_type": "code",
      "execution_count": null,
      "id": "5a24dac4",
      "metadata": {
        "id": "5a24dac4"
      },
      "outputs": [],
      "source": [
        "#Transformación de las caracteristicas (mire el apartado Feature engineering del aula virtual)\n"
      ]
    },
    {
      "cell_type": "markdown",
      "id": "49815fde",
      "metadata": {
        "ExecuteTime": {
          "end_time": "2022-03-14T15:56:34.366469Z",
          "start_time": "2022-03-14T15:56:34.358471Z"
        },
        "id": "49815fde"
      },
      "source": [
        "## División del dataset en datos de entrenamiento y datos de test "
      ]
    },
    {
      "cell_type": "code",
      "execution_count": null,
      "id": "6f26d21e",
      "metadata": {
        "id": "6f26d21e"
      },
      "outputs": [],
      "source": [
        "#Código que realice la división en entrenamiento y test, de acuerdo con la estretgia de evaluación planeada. Describa cuál es.\n"
      ]
    },
    {
      "cell_type": "markdown",
      "id": "6319adad",
      "metadata": {
        "id": "6319adad"
      },
      "source": [
        "## Modelamiento"
      ]
    },
    {
      "cell_type": "code",
      "execution_count": null,
      "id": "d5d2b2c6",
      "metadata": {
        "id": "d5d2b2c6"
      },
      "outputs": [],
      "source": [
        "#Códo del modelo"
      ]
    },
    {
      "cell_type": "code",
      "execution_count": null,
      "id": "33f5be2a",
      "metadata": {
        "ExecuteTime": {
          "end_time": "2022-04-25T07:21:39.020596Z",
          "start_time": "2022-04-25T07:21:39.005596Z"
        },
        "id": "33f5be2a"
      },
      "outputs": [],
      "source": [
        "#Entrenamiento"
      ]
    },
    {
      "cell_type": "code",
      "execution_count": null,
      "id": "a2e675b3",
      "metadata": {
        "id": "a2e675b3"
      },
      "outputs": [],
      "source": [
        "#Test"
      ]
    },
    {
      "cell_type": "markdown",
      "id": "9c2239f5",
      "metadata": {
        "id": "9c2239f5"
      },
      "source": [
        "## Evaluación del Modelo"
      ]
    },
    {
      "cell_type": "markdown",
      "id": "ad219a0c",
      "metadata": {
        "id": "ad219a0c"
      },
      "source": [
        "Construya un o dos párrafos con los principales hallazgos. Cómo está funcionando el modelo? Calidad en los resultados de predicción. "
      ]
    },
    {
      "cell_type": "code",
      "execution_count": null,
      "id": "28b14a2f",
      "metadata": {
        "id": "28b14a2f"
      },
      "outputs": [],
      "source": [
        ""
      ]
    }
  ],
  "metadata": {
    "kernelspec": {
      "display_name": "Python 3 (ipykernel)",
      "language": "python",
      "name": "python3"
    },
    "language_info": {
      "codemirror_mode": {
        "name": "ipython",
        "version": 3
      },
      "file_extension": ".py",
      "mimetype": "text/x-python",
      "name": "python",
      "nbconvert_exporter": "python",
      "pygments_lexer": "ipython3",
      "version": "3.9.7"
    },
    "toc": {
      "base_numbering": 1,
      "nav_menu": {},
      "number_sections": true,
      "sideBar": true,
      "skip_h1_title": true,
      "title_cell": "Tabla de Contenido",
      "title_sidebar": "Contenido",
      "toc_cell": false,
      "toc_position": {
        "height": "calc(100% - 180px)",
        "left": "10px",
        "top": "150px",
        "width": "263.591px"
      },
      "toc_section_display": true,
      "toc_window_display": true
    },
    "colab": {
      "name": "Notebook_Base.ipynb",
      "provenance": []
    }
  },
  "nbformat": 4,
  "nbformat_minor": 5
}